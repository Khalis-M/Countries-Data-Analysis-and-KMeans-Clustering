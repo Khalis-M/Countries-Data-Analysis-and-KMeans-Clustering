{
 "cells": [
  {
   "cell_type": "markdown",
   "metadata": {},
   "source": [
    "## **Exploring Global Country Data and Patterns through K-Means Clustering**"
   ]
  },
  {
   "cell_type": "markdown",
   "metadata": {},
   "source": [
    "## **LIBRAIRIES IMPORT**\n",
    "\n",
    "**Libraries Overview:**\n",
    "\n",
    "- **Pandas**: Data manipulation and analysis.\n",
    "- **NumPy**: Mathematical functions and array operations.\n",
    "- **Seaborn**: Statistical data visualization.\n",
    "- **Matplotlib**: Creating a wide range of plots.\n",
    "- **Plotly Express**: Interactive visualizations.\n",
    "- **StandardScaler**: Data preprocessing for scaling.\n",
    "- **KMeans**: Clustering algorithm for grouping data.\n",
    "- **silhouette_score**: Clustering quality evaluation."
   ]
  },
  {
   "cell_type": "code",
   "execution_count": null,
   "metadata": {},
   "outputs": [],
   "source": [
    "import pandas as pd\n",
    "import numpy as np\n",
    "import seaborn as sns \n",
    "import matplotlib.pyplot as plt\n",
    "import plotly.express as px\n",
    "from sklearn.preprocessing import StandardScaler\n",
    "from sklearn.cluster import KMeans\n",
    "from sklearn.metrics import silhouette_score"
   ]
  },
  {
   "cell_type": "markdown",
   "metadata": {},
   "source": [
    "## **DATA IMPORT**\n",
    "We load two datasets using Pandas: `2016.csv` for happiness scores and `countries of the world.csv` for country attributes. The DataFrames are named `df_happiness_score` and `df_countries`, respectively.\n",
    "\n",
    "\n",
    "\n"
   ]
  },
  {
   "cell_type": "code",
   "execution_count": null,
   "metadata": {},
   "outputs": [],
   "source": [
    "df_happiness_score = pd.read_csv(\"./data/2016.csv\")\n",
    "df_happiness_score.head()"
   ]
  },
  {
   "cell_type": "code",
   "execution_count": null,
   "metadata": {},
   "outputs": [],
   "source": [
    "df_countries = pd.read_csv(\"./data/countries of the world.csv\")\n",
    "df_countries.head()"
   ]
  },
  {
   "cell_type": "markdown",
   "metadata": {},
   "source": [
    "## **DATA CLEANING**"
   ]
  },
  {
   "cell_type": "markdown",
   "metadata": {},
   "source": [
    "We perform several data manipulations on the `df_happiness_score` DataFrame:\n",
    "- **Drop irrelevant columns:** 'Region', 'Happiness Rank', 'Lower Confidence Interval', 'Upper Confidence Interval'.\n",
    "- Sort the DataFrame by 'Country' in ascending order.\n",
    "- **Rename columns for clarity**: 'Economy (GDP per Capita)' to 'Economy', 'Health (Life Expectancy)' to 'Life expectancy', 'Trust (Government Corruption)' to 'Trust', 'Happiness Score' to 'Happiness score', 'Dystopia Residual' to 'Dystopia residual'.\n",
    "- Reset the DataFrame index."
   ]
  },
  {
   "cell_type": "code",
   "execution_count": null,
   "metadata": {},
   "outputs": [],
   "source": [
    "df_happiness_score.drop(['Region', 'Happiness Rank', 'Lower Confidence Interval', 'Upper Confidence Interval' ], axis=1, inplace=True)\n",
    "df_happiness_score.sort_values(by=[\"Country\"], inplace=True)\n",
    "df_happiness_score.rename(columns={'Economy (GDP per Capita)': 'Economy', 'Health (Life Expectancy)': 'Life expectancy', 'Trust (Government Corruption)': 'Trust', 'Happiness Score': 'Happiness score', 'Dystopia Residual': 'Dystopia residual'}, inplace=True)\n",
    "df_happiness_score.reset_index(drop=True, inplace=True)\n",
    "df_happiness_score.head()\n"
   ]
  },
  {
   "cell_type": "markdown",
   "metadata": {},
   "source": [
    "**Data Column Renaming and Cleaning:**\n",
    "\n",
    "We streamline column names in the `df_countries` DataFrame using a mapping dictionary. Additionally, we remove leading and trailing blanks from 'Country' and 'Region' columns.\n",
    "\n",
    "Notice : %0 = per 1000\n",
    "\n",
    "\n",
    "**Creating the Feature GDP:**\n",
    "\n",
    "We engineer a new feature 'GDP' by multiplying 'GDP per capita' with 'Population', offering insights into the economic strength of each country.\n",
    "\n",
    "\n",
    "**NaN Handling and Numeric Conversion:**\n",
    "\n",
    "For numeric columns, we convert comma-separated values to decimal points and fill missing values with the mean of their respective regions."
   ]
  },
  {
   "cell_type": "code",
   "execution_count": null,
   "metadata": {},
   "outputs": [],
   "source": [
    "columns_to_rename = {\n",
    "    'Area (sq. mi.)': 'Area',\n",
    "    'Pop. Density (per sq. mi.)': 'Population density',\n",
    "    'Coastline (coast/area ratio)': 'Coastline %',\n",
    "    'Infant mortality (per 1000 births)': 'Infant mortality %0',\n",
    "    'GDP ($ per capita)': 'GDP per capita',\n",
    "    'Literacy (%)': 'Literacy %',\n",
    "    'Phones (per 1000)': 'Phones %0',\n",
    "    'Arable (%)': 'Arable %',\n",
    "    'Crops (%)': 'Crops %',\n",
    "    'Other (%)': 'Other %',\n",
    "    'Agriculture': 'Agriculture %',\n",
    "    'Service': 'Service %',\n",
    "    'Industry': 'Industry %'\n",
    "}\n",
    "\n",
    "df_countries.rename(columns = columns_to_rename, inplace=True)\n",
    "\n",
    "df_countries['Country'] = df_countries['Country'].str.strip()\n",
    "df_countries['Region'] = df_countries['Region'].str.strip()\n",
    "df_countries['GDP'] = df_countries['GDP per capita'] * df_countries['Population']\n",
    "\n",
    "columns = df_countries.columns\n",
    "\n",
    "for column in columns[2:]:\n",
    "\n",
    "    df_countries[column] = pd.to_numeric(df_countries[column].replace(',', '.', regex=True))\n",
    "\n",
    "    region_means = df_countries.groupby('Region')[column].transform('mean')\n",
    "\n",
    "    df_countries[column] = df_countries[column].fillna(region_means)\n",
    "    \n",
    "df_countries.head()\n",
    "\n"
   ]
  },
  {
   "cell_type": "markdown",
   "metadata": {},
   "source": [
    "**Merging DataFrames for Analysis:**\n",
    "\n",
    "We begin by identifying non-matching countries between the `df_countries` and `df_happiness_score` DataFrames, ensuring data consistency. Subsequently, non-matching countries are removed from `df_countries` to align the datasets.\n",
    "\n",
    "A left merge operation combines `df_countries` and `df_happiness_score` based on the 'Country' column, enabling comprehensive analysis of country attributes and happiness scores.\n",
    "\n",
    "In the interest of accurate regional categorization, certain regions like 'NORTHERN AMERICA' and 'OCEANIA' are combined into 'NORTHERN AMERICA & OCEANIA'. This consolidation is particularly relevant since the 'OCEANIA' region in the happiness score dataset comprises only two countries, with others not present.\n",
    "\n",
    "With these modifications, the resulting DataFrame provides a unified and enriched dataset for in-depth exploration and insights.\n"
   ]
  },
  {
   "cell_type": "code",
   "execution_count": null,
   "metadata": {},
   "outputs": [],
   "source": [
    "# Find the non-matching countries in 'df_countries'\n",
    "non_matching_countries = set(df_countries['Country']) - set(df_happiness_score['Country'])\n",
    "\n",
    "# Remove rows with non-matching countries from 'df_countries'\n",
    "df_countries = df_countries[~df_countries['Country'].isin(non_matching_countries)]\n",
    "\n",
    "# Merge the DataFrames \n",
    "df_countries = pd.merge(df_countries, df_happiness_score, on='Country', how='left')\n",
    "df_countries.rename(columns={'Score': 'Happiness score'}, inplace=True)\n",
    "df_countries['Region'] = df_countries['Region'].replace({'NORTHERN AMERICA': 'NORTHERN AMERICA & OCEANIA',\n",
    "                                                       'OCEANIA': 'NORTHERN AMERICA & OCEANIA', 'ASIA (EX. NEAR EAST)': 'ASIA'})\n",
    "df_countries.head()\n"
   ]
  },
  {
   "cell_type": "markdown",
   "metadata": {},
   "source": [
    "## **DATA VISUALIZATION**\n",
    "\n",
    "**Population Distribution by Region Visualization:**\n",
    "\n",
    "The `population_distribution_by_region()` function generates a two-part pie chart visualization showcasing the distribution of global population by region. Using Seaborn for styling, the function groups the `df_countries` DataFrame by 'Region' and calculates the sum of populations.\n",
    "\n",
    "In the resulting pie chart:\n",
    "- The outer ring illustrates the distribution of population across regions, with labels indicating each region's percentage share.\n",
    "- The inner circle serves as a visual separator, providing a clean and informative presentation.\n",
    "\n",
    "This visualization provides a clear snapshot of population distribution, aiding in the understanding of demographic patterns across different regions.\n"
   ]
  },
  {
   "cell_type": "code",
   "execution_count": null,
   "metadata": {},
   "outputs": [],
   "source": [
    "def population_distribution_by_region():\n",
    "\n",
    "    sns.set(style=\"whitegrid\")\n",
    "    sns.set_palette(\"bright\")\n",
    "    region_population = df_countries.groupby('Region')['Population'].sum()\n",
    "\n",
    "    fig, (outer_ax, inner_ax) = plt.subplots(1, 2, figsize=(12, 6))\n",
    "\n",
    "    outer_wedges, outer_labels, _ = outer_ax.pie(region_population, labels=region_population.index, startangle=140,\n",
    "                                                autopct='%d%%', pctdistance=0.85, wedgeprops=dict(width=0.3),\n",
    "                                                textprops={'color': 'white', 'fontweight': 'bold'})\n",
    "\n",
    "\n",
    "    for label, wedge in zip(outer_labels, outer_wedges):\n",
    "        label.set_color(wedge.get_facecolor())\n",
    "\n",
    "    outer_ax.axis('equal')\n",
    "    outer_ax.set_title('Population Distribution by Region', fontweight='bold')\n",
    "\n",
    "    inner_wedges, inner_labels = inner_ax.pie([1], labels=[''], radius=0.7, colors=['white']) \n",
    "\n",
    "    inner_ax.axis('equal')  \n",
    "\n",
    "    plt.tight_layout()\n",
    "    plt.show()\n",
    "    plt.clf()\n",
    "\n",
    "population_distribution_by_region()"
   ]
  },
  {
   "cell_type": "markdown",
   "metadata": {},
   "source": [
    "**Observations:**\n",
    "\n",
    "We can see that 57% of humanity is Asian, due in particular to India and China. Apart from Asia, the population is fairly evenly distributed between the continents."
   ]
  },
  {
   "cell_type": "markdown",
   "metadata": {},
   "source": [
    "**Barplot for Regional Statistics:**\n",
    "\n",
    "The `barplot_stat_per_region()` function generates bar plots to visualize selected statistics across different regions. It accepts a DataFrame, a statistical column (`stat`), and an aggregation function (`estimator_func`), such as mean or median.\n",
    "\n",
    "For each statistic, the function creates a bar plot with the x-axis representing regions and the y-axis indicating the chosen statistic. Error bars are omitted for clarity. \n",
    "\n",
    "Additional visual elements include:\n",
    "- Rotated x-axis labels for better readability.\n",
    "- Numerical annotations above each bar displaying the corresponding statistic.\n",
    "\n",
    "The resulting plots offer valuable insights into how specific statistics vary across different regions, aiding in the exploration of regional patterns.\n"
   ]
  },
  {
   "cell_type": "code",
   "execution_count": null,
   "metadata": {},
   "outputs": [],
   "source": [
    "def barplot_stat_per_region(data, stat, estimator_func):\n",
    "    \n",
    "    plt.figure()\n",
    "    sns.set(style=\"whitegrid\")\n",
    "    sns.set_palette(\"bright\")\n",
    "\n",
    "    fig, ax = plt.subplots(figsize=(12, 10))\n",
    "    sns.barplot(data=data, y=stat, x='Region', ax=ax, errorbar=None)\n",
    "    plt.xticks(rotation=90, fontweight = 'bold')\n",
    "    plt.yticks(fontweight = 'bold')\n",
    "\n",
    "    plt.xlabel('Region', fontweight='bold')\n",
    "    plt.ylabel(stat, fontweight='bold')\n",
    "    plt.title(f'{estimator_func.__name__.capitalize()} {stat} per Region', fontweight='bold')\n",
    "\n",
    "    for p in ax.patches:\n",
    "        ax.annotate(format(p.get_height(), '.2f'), \n",
    "                    (p.get_x() + p.get_width() / 2., p.get_height()), \n",
    "                    ha='center', va='center', \n",
    "                    xytext=(0, 9), \n",
    "                    textcoords='offset points', fontweight = 'bold')\n",
    "\n",
    "    plt.tight_layout()  \n",
    "    plt.show()\n",
    "    plt.clf()\n",
    "\n",
    "barplot_stat_per_region(df_countries, 'GDP per capita', np.mean) \n",
    "barplot_stat_per_region(df_countries, 'Happiness score', np.mean) \n",
    "barplot_stat_per_region(df_countries, 'Literacy %', np.median)"
   ]
  },
  {
   "cell_type": "markdown",
   "metadata": {},
   "source": [
    "**Observations**: \n",
    "\n",
    "We can see that the richest continents are Europe and North America (Oceania looks richer than it is because of the absence of other countries such as Australia and NZ). There is an abysmal difference between Western and Eastern Europe. The poorest region is Sub-Saharan Africa.\n",
    "\n",
    "We can see that happiness scores follow those for GDP per capita. The two are obviously positively correlated. The richest regions are the happiest, and the poorest the unhappiest. There is a slight upward trend for Latin American and Caribbean countries, perhaps due to their paradisiacal landscapes and weather conditions.\n",
    "\n",
    "Literacy scores are extremely revealing. There is great inequality between regions. Africa has a very low literacy rate, while other continents are much more literate. Even some regions that weren't among the top performers in terms of GDP per capita have excellent literacy scores. In Europe, America and Oceania, virtually everyone can read and write. "
   ]
  },
  {
   "cell_type": "markdown",
   "metadata": {},
   "source": [
    "**Boxplots for Regional Statistics:**\n",
    "\n",
    "The `boxplot_stat_per_region()` function generates boxplots to visualize the distribution of selected statistics across different regions. It takes a DataFrame and a statistical column (`stat`) as inputs.\n",
    "\n",
    "For each statistic, the function creates a boxplot with the x-axis representing regions and the y-axis indicating the chosen statistic. The boxes depict the interquartile range (IQR), whiskers extend to the minimum and maximum values within a defined range, and any outliers are highlighted.\n",
    "\n",
    "Additional visual elements include:\n",
    "- Rotated x-axis labels for improved legibility.\n",
    "\n",
    "The resulting boxplots provide a clear depiction of the variability and distribution of chosen statistics across regions, offering valuable insights into regional differences.\n"
   ]
  },
  {
   "cell_type": "code",
   "execution_count": null,
   "metadata": {},
   "outputs": [],
   "source": [
    "def boxplot_stat_per_region(data, stat):\n",
    "    \n",
    "    plt.figure()\n",
    "    sns.set(style=\"whitegrid\")\n",
    "    sns.set_palette(\"bright\")\n",
    "\n",
    "    fig, ax = plt.subplots(figsize=(12, 10))\n",
    "    sns.boxplot(data=data, y=stat, x='Region')\n",
    "    plt.xticks(rotation=90, fontweight = 'bold')\n",
    "    plt.yticks(fontweight = 'bold')\n",
    "\n",
    "    plt.xlabel('Region', fontweight='bold')\n",
    "    plt.ylabel(stat, fontweight='bold')\n",
    "    plt.title(f'Boxplots {stat} per Region', fontweight='bold')\n",
    "\n",
    "    plt.tight_layout()  \n",
    "    plt.show()\n",
    "    plt.clf()\n",
    "\n",
    "boxplot_stat_per_region(df_countries, 'GDP per capita') \n",
    "boxplot_stat_per_region(df_countries, 'Happiness score') \n",
    "boxplot_stat_per_region(df_countries, 'Literacy %')"
   ]
  },
  {
   "cell_type": "markdown",
   "metadata": {},
   "source": [
    "**Observations**\n",
    "\n",
    "We can see that the distribution differs from region to region: in the Near East, GDP per capita is very widely distributed, while it is very narrow in sub-Saharan Africa and the Baltic region. This graph shows an even poorer view of Africa, because the vast majority of countries have a very good GDP per Capita, with no extreme low values.\n",
    "\n",
    "Happiness scores are broadly distributed, except in the Baltic and North American regions, certainly due to the small number of countries in these regions. We see many high and low extreme values.\n",
    "\n",
    "The distribution of literacy scores is very uneven. For Western countries, all have excellent literacy levels, but for the rest the distribution is extremely wide, so there are countries with very low literacy levels among these regions, even though the overall score for the region may be much higher. There are strong disparities in these regions. For example, the average literacy level in sub-Saharan Africa is 60%, but one country has a score below 20%."
   ]
  },
  {
   "cell_type": "markdown",
   "metadata": {},
   "source": [
    "**Scatter Plots for Statistical Relationships:**\n",
    "\n",
    "The `plot_stats()` function generates scatter plots to explore relationships between selected statistics. It accepts a DataFrame, an x-axis variable (`x`), and up to three y-axis variables (`y1`, `y2`, `y3`).\n",
    "\n",
    "For each scatter plot:\n",
    "- The x-axis represents the chosen variable `x`.\n",
    "- The y-axis displays the selected statistic(s) (`y1`, `y2`, `y3`).\n",
    "\n",
    "These scatter plots enable the investigation of potential relationships and correlations among various statistics, contributing to a deeper understanding of the data.\n"
   ]
  },
  {
   "cell_type": "code",
   "execution_count": null,
   "metadata": {},
   "outputs": [],
   "source": [
    "def plot_stats(data, x, y1, y2 = None, y3 = None):\n",
    "    \n",
    "    plt.figure(figsize=(10,5))\n",
    "    sns.set_palette(\"bright\")\n",
    "\n",
    "    sns.scatterplot(data=data, y=y1, x= x)\n",
    "\n",
    "    if y2:\n",
    "        sns.scatterplot(data=data, y=y2, x= x)\n",
    "\n",
    "        if y3:\n",
    "            sns.scatterplot(data=data, y=y3, x=x)\n",
    "            plt.ylabel(f'{y1} & {y2} & {y3}', fontweight = 'bold')\n",
    "            plt.title(f'{y1} & {y2} {y3} in function of {x}', fontweight='bold')\n",
    "        else:\n",
    "            plt.ylabel(f'{y1} & {y2}', fontweight = 'bold')\n",
    "            plt.title(f'{y1} & {y2} in function of {x}', fontweight='bold')   \n",
    "    else:\n",
    "            plt.title(f'{y1} in function of {x}', fontweight='bold')\n",
    "            plt.ylabel(f'{y1}', fontweight = 'bold')\n",
    "        \n",
    "\n",
    "    plt.xticks(fontweight = 'bold')\n",
    "    plt.yticks(fontweight = 'bold')\n",
    "    plt.xlabel(x, fontweight='bold')\n",
    "   \n",
    "\n",
    "    plt.show()\n",
    "    plt.clf()\n",
    "\n",
    "\n",
    "plot_stats(df_countries, 'GDP per capita', 'Happiness score')\n",
    "plot_stats(df_countries, 'GDP per capita','Phones %0')\n",
    "plot_stats(df_countries, 'Infant mortality %0', 'GDP per capita')\n",
    "plot_stats(df_countries, 'GDP per capita', 'Service %', 'Industry %', 'Agriculture %')"
   ]
  },
  {
   "cell_type": "markdown",
   "metadata": {},
   "source": [
    "**Observations**\n",
    "\n",
    "We can see that the happiness score is obviously positively correlated with GDP per capita. The relationship between the two seems more exponential than linear. Happiness score increase extremely fast as GDP per capita increases.\n",
    "\n",
    "The relation between the number of phones per 1000 inhabitants and GDP per capita seems linear which seems logical because because %0 of phones is a direct statistic of wealt.\n",
    "\n",
    "It can be seen that infant mortality decreases sharply the richer the country, as does the happiness score, with the link appearing to be exponential. Infant mortality decreases exponentially with a country's wealth, thanks in particular to the higher quality of its hospitals, doctors, etc.\n",
    "\n",
    "In terms of economic sectors, the poorest countries are mainly agricultural. The average countries are more industrial, while the richer countries invest more in services such as health, transport, etc."
   ]
  },
  {
   "cell_type": "markdown",
   "metadata": {},
   "source": [
    "**Leading Sector Analysis and Scatter Plot:**\n",
    "\n",
    "We derive a new column, 'Leading sector', in the `df_countries` DataFrame by identifying the dominant sector (Service, Industry, or Agriculture) based on highest percentage among 'Service %', 'Industry %', and 'Agriculture %'.\n",
    "\n",
    "Subsequently, we generate a scatter plot comparing 'Happiness score' against 'GDP per capita', with color-coded points indicating the leading sector. The scatter plot provides a visual exploration of how happiness and GDP relate to the dominant sector of each country.\n",
    "\n",
    "This scatter plot offers insights into potential correlations between happiness, GDP, and the leading sector of each country.\n",
    "\n",
    "\n"
   ]
  },
  {
   "cell_type": "code",
   "execution_count": null,
   "metadata": {},
   "outputs": [],
   "source": [
    "df_countries['Leading sector'] = df_countries[['Service %', 'Industry %', 'Agriculture %']].idxmax(axis=1)\n",
    "\n",
    "plt.figure(figsize=(10, 6))\n",
    "sns.scatterplot(data=df_countries, x='Happiness score', y='GDP per capita',\n",
    "                hue='Leading sector', palette={'Service %': 'blue', 'Industry %': 'orange', 'Agriculture %': 'green'})\n",
    "plt.title('Happiness Score vs GDP per Capita with Leading Sector Color', fontweight = 'bold')\n",
    "plt.xlabel('Happiness Score', fontweight = 'bold')\n",
    "plt.ylabel('GDP per Capita', fontweight = 'bold')\n",
    "plt.legend(title='Leading Sector')\n",
    "plt.show()\n",
    "plt.clf()\n"
   ]
  },
  {
   "cell_type": "markdown",
   "metadata": {},
   "source": [
    "**Sector Distribution for Top and Bottom GDP per Capita Countries:**\n",
    "\n",
    "We select the top 10 and bottom 10 countries based on 'GDP per capita' from the `df_countries` DataFrame. Combining these dataframes, we create a `top_bottom_10` dataframe and set 'Country' as the index.\n",
    "\n",
    "The code generates a stacked bar plot displaying the distribution of sectors (Agriculture, Service, Industry) for the selected top and bottom GDP per capita countries. Different sectors are color-coded, and the stacked bars allow for easy comparison of sector percentages.\n",
    "\n",
    "\n",
    "This stacked bar plot offers a visual comparison of sectoral distribution between the top and bottom GDP per capita countries.\n"
   ]
  },
  {
   "cell_type": "code",
   "execution_count": null,
   "metadata": {},
   "outputs": [],
   "source": [
    "top_10 = df_countries.nlargest(10, 'GDP per capita')\n",
    "bottom_10 = df_countries.nsmallest(10, 'GDP per capita')\n",
    "\n",
    "top_bottom_10 = pd.concat([top_10, bottom_10])\n",
    "top_bottom_10.set_index('Country', inplace=True)\n",
    "colors = ['green', 'blue', 'orange']\n",
    "\n",
    "plt.figure()\n",
    "top_bottom_10[['Agriculture %', 'Service %', 'Industry %']].plot(kind='bar', stacked=True, color=colors)\n",
    "plt.title('Percentage of Sectors for Top and Bottom 20 GDP per capita Countries', fontweight = 'bold')\n",
    "plt.xlabel('Country', fontweight = 'bold')\n",
    "plt.ylabel('Percentage', fontweight = 'bold')\n",
    "plt.legend(title='Sector')\n",
    "plt.xticks(rotation=90, ha='right', fontweight = 'bold')\n",
    "plt.tight_layout()\n",
    "plt.show()\n",
    "plt.clf()"
   ]
  },
  {
   "cell_type": "markdown",
   "metadata": {},
   "source": [
    "**Observations**\n",
    "\n",
    "The different charts confirms what we saw earlier: service-dominant countries are in the majority, and rich countries are exclusively service-dominant, while all agriculture-dominant countries are among the poor. It seems that poor countries are forced to turn to agriculture while countries with great resources naturally invest in services."
   ]
  },
  {
   "cell_type": "markdown",
   "metadata": {},
   "source": [
    "**Factors Contributing to Top and Bottom Happiness Score Countries:**\n",
    "\n",
    "We select the top 10 and bottom 10 countries based on 'Happiness score' from the `df_countries` DataFrame. Combining these dataframes, we create a `top_bottom_10` dataframe and set 'Country' as the index.\n",
    "\n",
    "The code generates a stacked bar plot illustrating the factors contributing to the happiness scores of the selected top and bottom countries. Factors include 'Economy', 'Family', 'Life expectancy', 'Freedom', 'Trust', 'Generosity', and 'Dystopia residual'. \n",
    "\n",
    "This stacked bar plot offers an insightful comparison of factors that play a role in the happiness scores of the top and bottom countries.\n"
   ]
  },
  {
   "cell_type": "code",
   "execution_count": null,
   "metadata": {},
   "outputs": [],
   "source": [
    "top_10 = df_countries.nlargest(10, 'Happiness score')\n",
    "bottom_10 = df_countries.nsmallest(10, 'Happiness score')\n",
    "\n",
    "top_bottom_10 = pd.concat([top_10, bottom_10])\n",
    "top_bottom_10.set_index('Country', inplace=True)\n",
    "\n",
    "colors = ['blue', 'pink', 'green', 'yellow', 'purple', 'red', 'grey']\n",
    "\n",
    "plt.figure()\n",
    "top_bottom_10[['Economy', 'Family', 'Life expectancy',\n",
    "      'Freedom', 'Trust',\n",
    "      'Generosity', 'Dystopia residual']].plot(kind='bar', stacked=True, color = colors)\n",
    "\n",
    "\n",
    "plt.title('Top and Bottom 20 Happiness Score Countries', fontweight = 'bold')\n",
    "plt.xlabel('Country', fontweight = 'bold')\n",
    "plt.ylabel('Score', fontweight = 'bold')\n",
    "plt.legend()\n",
    "plt.xticks(rotation=90, ha='right', fontweight = 'bold')\n",
    "plt.tight_layout()\n",
    "plt.show()\n",
    "plt.clf()"
   ]
  },
  {
   "cell_type": "markdown",
   "metadata": {},
   "source": [
    "**Observations**\n",
    "\n",
    "We can see that the most differentiating factors are trust in government, as poor countries are very much affected by corruption; and life expectancy, as the inhabitants of poor countries are greatly affected by the lack of health due to poverty and sometimes conflict."
   ]
  },
  {
   "cell_type": "markdown",
   "metadata": {},
   "source": [
    "**Correlation Heatmap of Selected Metrics:**\n",
    "\n",
    "We create a correlation heatmap to visualize the pairwise relationships between selected metrics from the `df_countries` DataFrame. The heatmap employs a color scale to represent the strength and direction of correlations.\n",
    "\n",
    "Key features include:\n",
    "- A square heatmap matrix, with metrics on both the x and y axes.\n",
    "- Annotated values within each cell, reflecting the correlation coefficient rounded to two decimal places.\n",
    "\n",
    "The resulting heatmap offers insights into potential correlations among various socio-economic metrics, aiding in the identification of patterns and relationships.\n"
   ]
  },
  {
   "cell_type": "code",
   "execution_count": null,
   "metadata": {},
   "outputs": [],
   "source": [
    "metrics = df_countries.columns[2:28]\n",
    "plt.figure(figsize=(20,15))\n",
    "sns.heatmap(data = df_countries[metrics].corr(), annot=True, fmt='.2f')\n",
    "plt.show()\n",
    "plt.clf()\n"
   ]
  },
  {
   "cell_type": "markdown",
   "metadata": {},
   "source": [
    "**Observations**\n",
    "\n",
    "We can see all the positive correlations found before such as GDP per capite and Happiness score, GDP and Service, or GDP and Literacy. Also, we can see all the negative correlations found before such as Infant Mortality and GDP per capita, GDP and Agriculture.  "
   ]
  },
  {
   "cell_type": "markdown",
   "metadata": {},
   "source": [
    "## **DATA PREPROCESSING**\n",
    "\n",
    "We prepare the data for analysis by removing the 'Country' column and performing one-hot encoding using `pd.get_dummies()` to convert categorical variables into binary columns.\n",
    "\n",
    "Next, we apply the StandardScaler from scikit-learn to standardize the numerical features. This ensures that all features have a mean of 0 and a standard deviation of 1, reducing the impact of varying scales on the analysis.\n",
    "\n",
    "The resulting preprocessed and scaled data is ready for further exploration and modeling."
   ]
  },
  {
   "cell_type": "code",
   "execution_count": null,
   "metadata": {},
   "outputs": [],
   "source": [
    "X = df_countries.drop([\"Country\"], axis=1)\n",
    "X = pd.get_dummies(X)\n",
    "scaler = StandardScaler()\n",
    "X[X.columns] = scaler.fit_transform(X[X.columns])\n"
   ]
  },
  {
   "cell_type": "markdown",
   "metadata": {},
   "source": [
    "## **K-MEANS CLUSTERING**"
   ]
  },
  {
   "cell_type": "markdown",
   "metadata": {},
   "source": [
    "**Elbow Method for Optimal Number of Clusters:**\n",
    "\n",
    "We employ the elbow method to determine the optimal number of clusters for K-Means clustering. For a range of values from 2 to 19 (inclusive), we fit a K-Means model to the preprocessed data and record the sum of squared distances from each point to its assigned cluster center.\n",
    "\n",
    "The code generates a scatter plot where the x-axis represents the number of clusters (k) and the y-axis displays the sum of squared distances. The plot often exhibits an \"elbow\" point, which indicates the optimal number of clusters.\n",
    "\n",
    "This technique aids in selecting an appropriate number of clusters to best capture the underlying patterns in the data.\n"
   ]
  },
  {
   "cell_type": "code",
   "execution_count": null,
   "metadata": {},
   "outputs": [],
   "source": [
    "sum_squared_distances = []\n",
    "\n",
    "for k in range(2,20):\n",
    "    \n",
    "    model = KMeans(n_clusters=k)\n",
    "      \n",
    "    model.fit(X)\n",
    "    \n",
    "    sum_squared_distances.append(model.inertia_)\n",
    "\n",
    "plt.figure()\n",
    "plt.scatter( x = [ k for k in range(2,20)], y = sum_squared_distances)\n",
    "plt.show()\n",
    "plt.clf()    "
   ]
  },
  {
   "cell_type": "markdown",
   "metadata": {},
   "source": [
    "**Silhouette Scores for Optimal K:**\n",
    "\n",
    "We calculate Silhouette Scores for a range of cluster numbers (k) from 2 to 19. For each value of k, we fit a K-Means model to the preprocessed data and compute the Silhouette Score, which quantifies how well each data point fits into its assigned cluster while considering the distance to other clusters.\n",
    "\n",
    "The code generates a line plot, where the x-axis represents the number of clusters (k) and the y-axis displays the Silhouette Score. A higher score indicates better-defined clusters, aiding in the identification of an optimal cluster count.\n",
    "\n",
    "This approach helps determine the most suitable number of clusters that best captures the inherent structure of the data.\n"
   ]
  },
  {
   "cell_type": "code",
   "execution_count": null,
   "metadata": {},
   "outputs": [],
   "source": [
    "silhouette_scores = []\n",
    "for k in range(2, 20):\n",
    "    model = KMeans(n_clusters=k)\n",
    "    kmeans_labels = model.fit_predict(X)\n",
    "    score = silhouette_score(X, kmeans_labels)\n",
    "    silhouette_scores.append(score)\n",
    "\n",
    "# Plot Silhouette Scores\n",
    "plt.figure(figsize=(10, 6))\n",
    "plt.plot([k for k in range(2,20)], silhouette_scores, marker='o')\n",
    "plt.title('Silhouette Scores for Optimal K')\n",
    "plt.xlabel('Number of Clusters (K)')\n",
    "plt.ylabel('Silhouette Score')\n",
    "plt.show()"
   ]
  },
  {
   "cell_type": "markdown",
   "metadata": {},
   "source": [
    "**We see that the optimal K is 15. It has the best silhouette score and a low sum squared error.** "
   ]
  },
  {
   "cell_type": "code",
   "execution_count": null,
   "metadata": {},
   "outputs": [],
   "source": [
    "model = KMeans( n_clusters = 15)\n",
    "model.fit(X)\n",
    "model.labels_"
   ]
  },
  {
   "cell_type": "markdown",
   "metadata": {},
   "source": [
    "**Assigning Clusters and Displaying Countries:**\n",
    "\n",
    "We assign clusters to countries using the `model.labels_` attribute from the K-Means model. Each country is assigned to a specific cluster.\n",
    "\n",
    "For each cluster (from 0 to 15), the code iterates through and displays the countries belonging to that cluster. This provides a clear understanding of the countries grouped together within each cluster.\n",
    "\n",
    "The output showcases the distribution of countries among clusters, aiding in the interpretation and analysis of the clustering results.\n"
   ]
  },
  {
   "cell_type": "code",
   "execution_count": null,
   "metadata": {},
   "outputs": [],
   "source": [
    "df_countries['Cluster'] = model.labels_\n",
    "for k in range(16):\n",
    "    print(f\"Cluster number {k}\")\n",
    "    print(df_countries[df_countries['Cluster'] == k]['Country'])\n",
    "    print(\"-\"*20)"
   ]
  },
  {
   "cell_type": "markdown",
   "metadata": {},
   "source": [
    "**Choropleth Map of Clustered Countries:**\n",
    "\n",
    "We use the `iso_codes` DataFrame to create a mapping between country names and their ISO codes. This mapping facilitates the visualization of clustered countries on a choropleth map.\n",
    "\n",
    "The code employs Plotly Express (`px.choropleth`) to generate the choropleth map. The map displays countries based on their ISO codes, with color-coding representing the assigned cluster. Hovering over a country reveals the country name, and the color scale enhances visual differentiation of clusters.\n",
    "\n"
   ]
  },
  {
   "cell_type": "code",
   "execution_count": null,
   "metadata": {},
   "outputs": [],
   "source": [
    "iso_codes = pd.read_csv(\"./data/countries_continents_codes_flags_url.csv\")\n",
    "iso_country_mapping = iso_codes.set_index('country')['alpha-3'].to_dict()\n",
    "\n",
    "df_countries['ISO code'] = df_countries['Country'].map(iso_country_mapping)\n",
    "fig = px.choropleth(\n",
    "    df_countries,\n",
    "    locations=\"ISO code\",\n",
    "    color=\"Cluster\",\n",
    "    hover_name=\"Country\",\n",
    "    color_continuous_scale=  px.colors.sequential.Turbo \n",
    ")\n",
    "\n",
    "fig.show()\n",
    "\n"
   ]
  },
  {
   "cell_type": "markdown",
   "metadata": {},
   "source": [
    "## **Analysis of Clustered Countries:**\n",
    "\n",
    "The K-Means clustering algorithm has grouped the countries into distinct clusters based on their socio-economic attributes. Below is an analysis of the countries within each cluster:\n",
    "\n",
    "Cluster 0: This cluster comprises countries with relatively high GDP per capita and happiness scores, including Cyprus, Greece, Italy, Japan, Spain, and Portugal. These countries exhibit a balanced mix of economic and social indicators.\n",
    "\n",
    "Cluster 1: Predominantly consisting of South American countries like Argentina, Brazil, and Mexico, this cluster includes countries with varying levels of GDP per capita and happiness scores.\n",
    "\n",
    "Cluster 2: Comprising countries from the Eastern European region, this cluster includes Armenia, Azerbaijan, Russia, and Ukraine, among others. These countries show diverse economic and social profiles.\n",
    "\n",
    "Cluster 3: Encompassing Central European countries such as Poland, Hungary, and Romania, this cluster consists of nations with relatively higher GDP per capita and happiness scores.\n",
    "\n",
    "Cluster 4: This small cluster includes African countries like Angola and Nigeria, indicating lower GDP per capita and happiness scores.\n",
    "\n",
    "Cluster 5: Encompassing countries such as Bangladesh, Haiti, and Pakistan, this cluster represents nations with lower GDP per capita and happiness scores.\n",
    "\n",
    "Cluster 6: Dominated by African nations, this cluster includes countries with varying levels of GDP per capita and happiness scores.\n",
    "\n",
    "Cluster 7: Consisting of Hong Kong and Singapore, this cluster represents highly developed Asian countries with high GDP per capita and happiness scores.\n",
    "\n",
    "Cluster 8: Encompassing Western European nations like Germany, France, and the United Kingdom, this cluster represents countries with high GDP per capita and happiness scores.\n",
    "\n",
    "Cluster 9: This cluster includes African nations like Burundi, Liberia, and Rwanda, with lower GDP per capita and happiness scores.\n",
    "\n",
    "Cluster 10: Comprising China and India, this cluster represents two populous Asian countries with significant economic influence.\n",
    "\n",
    "Cluster 11: Representing highly developed English-speaking nations, this cluster includes Australia, Canada, New Zealand, and the United States.\n",
    "\n",
    "Cluster 12: Encompassing countries such as Indonesia, Iran, and the Philippines, this cluster represents nations with varying levels of GDP per capita and happiness scores.\n",
    "\n",
    "Cluster 13: This cluster includes Middle Eastern countries like Saudi Arabia, Qatar, and the United Arab Emirates, with higher GDP per capita and happiness scores.\n",
    "\n",
    "Cluster 14: Encompassing North African nations like Egypt and Algeria, this cluster represents countries with varying levels of GDP per capita and happiness scores.\n",
    "\n",
    "Cluster 15: This small cluster does not contain any countries, indicating that these nations did not fit well into the defined clusters based on the selected socio-economic attributes.\n",
    "\n",
    "Notice that the numbers of clusters change everytime we run the model."
   ]
  }
 ],
 "metadata": {
  "kernelspec": {
   "display_name": "Python 3",
   "language": "python",
   "name": "python3"
  },
  "language_info": {
   "codemirror_mode": {
    "name": "ipython",
    "version": 3
   },
   "file_extension": ".py",
   "mimetype": "text/x-python",
   "name": "python",
   "nbconvert_exporter": "python",
   "pygments_lexer": "ipython3",
   "version": "3.10.11"
  },
  "orig_nbformat": 4
 },
 "nbformat": 4,
 "nbformat_minor": 2
}
